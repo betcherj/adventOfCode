{
 "cells": [
  {
   "cell_type": "code",
   "execution_count": 1,
   "id": "b87afb4e",
   "metadata": {
    "execution": {
     "iopub.execute_input": "2023-03-26T22:45:19.807843Z",
     "iopub.status.busy": "2023-03-26T22:45:19.807329Z",
     "iopub.status.idle": "2023-03-26T22:45:19.812979Z",
     "shell.execute_reply": "2023-03-26T22:45:19.811983Z"
    },
    "papermill": {
     "duration": 0.014635,
     "end_time": "2023-03-26T22:45:19.815895",
     "exception": false,
     "start_time": "2023-03-26T22:45:19.801260",
     "status": "completed"
    },
    "tags": []
   },
   "outputs": [],
   "source": [
    "#pip install tensorflow_model_optimization"
   ]
  },
  {
   "cell_type": "code",
   "execution_count": 2,
   "id": "60d1fa9d",
   "metadata": {
    "execution": {
     "iopub.execute_input": "2023-03-26T22:45:19.824281Z",
     "iopub.status.busy": "2023-03-26T22:45:19.823738Z",
     "iopub.status.idle": "2023-03-26T22:45:27.901320Z",
     "shell.execute_reply": "2023-03-26T22:45:27.900207Z"
    },
    "papermill": {
     "duration": 8.084625,
     "end_time": "2023-03-26T22:45:27.904120",
     "exception": false,
     "start_time": "2023-03-26T22:45:19.819495",
     "status": "completed"
    },
    "tags": []
   },
   "outputs": [],
   "source": [
    "import numpy as np\n",
    "import pandas as pd\n",
    "import tensorflow as tf\n",
    "from tqdm.notebook import tqdm\n",
    "# import tensorflow_model_optimization as tfmot\n",
    "import json\n",
    "import zipfile\n",
    "import os\n",
    "import gc\n",
    "from sklearn.model_selection import train_test_split\n",
    "from tensorflow.keras.callbacks import EarlyStopping, ReduceLROnPlateau\n",
    "\n",
    "BASE_TRAIN_PATH = \"/kaggle/input/asl-signs/\"\n",
    "TRAIN_FILE = \"/kaggle/input/asl-signs/train.csv\"\n",
    "INDEX_MAP_FILE = '/kaggle/input/asl-signs/sign_to_prediction_index_map.json'\n",
    "MODEL_OUT_PATH = '/kaggle/working/modelie'\n",
    "\n",
    "INFERENCE_MODEL_OUT_PATH = '/kaggle/working/inference-model/modelie'\n",
    "ZIPPED_SUBMISSION_OUT_PATH = '/kaggle/working/submission.zip'\n",
    "CHECK_POINT_PATH = 'kaggle/working/check-point/cp.ckpt'\n",
    "\n",
    "epochs = 200\n",
    "batch_size = 300\n",
    "\n",
    "training = True\n",
    "rows_per_frame = 543 #Number of landmarks per frame \n",
    "num_classes = 250 \n",
    "pruning = False\n",
    "dropout_rate = .2\n",
    "\n",
    "# MIN MAX AVG Frames \n",
    "# 537\n",
    "# 2\n",
    "# 37.93502122209638\n",
    "max_length = 30 # length that input is padded/truncated to \n",
    "import warnings\n",
    "warnings.filterwarnings(\"ignore\", category=np.VisibleDeprecationWarning) \n",
    "\n",
    "NUM_FRAMES = 15\n",
    "SEGMENTS = 3\n",
    "\n",
    "LEFT_HAND_OFFSET = 468\n",
    "POSE_OFFSET = LEFT_HAND_OFFSET+21\n",
    "RIGHT_HAND_OFFSET = POSE_OFFSET+33\n",
    "ROWS_PER_FRAME = 543\n",
    "\n",
    "## average over the entire face, and the entire 'pose'\n",
    "\n",
    "lip_landmarks = [61, 185, 40, 39, 37,  0, 267, 269, 270, 409,\n",
    "                 291,146, 91,181, 84, 17, 314, 405, 321, 375, \n",
    "                 78, 191, 80, 81, 82, 13, 312, 311, 310, 415, \n",
    "                 95, 88, 178, 87, 14,317, 402, 318, 324, 308]\n",
    "\n",
    "left_hand_landmarks = list(range(LEFT_HAND_OFFSET, LEFT_HAND_OFFSET+21))\n",
    "right_hand_landmarks = list(range(RIGHT_HAND_OFFSET, RIGHT_HAND_OFFSET+21))\n",
    "\n",
    "point_landmarks = [item for sublist in [lip_landmarks, left_hand_landmarks, right_hand_landmarks] for item in sublist]\n"
   ]
  },
  {
   "cell_type": "code",
   "execution_count": 3,
   "id": "a570734f",
   "metadata": {
    "execution": {
     "iopub.execute_input": "2023-03-26T22:45:27.914428Z",
     "iopub.status.busy": "2023-03-26T22:45:27.912542Z",
     "iopub.status.idle": "2023-03-26T22:45:40.893351Z",
     "shell.execute_reply": "2023-03-26T22:45:40.892137Z"
    },
    "papermill": {
     "duration": 12.98845,
     "end_time": "2023-03-26T22:45:40.896267",
     "exception": false,
     "start_time": "2023-03-26T22:45:27.907817",
     "status": "completed"
    },
    "tags": []
   },
   "outputs": [
    {
     "name": "stdout",
     "output_type": "stream",
     "text": [
      "Found existing installation: ipywidgets 7.7.1\r\n",
      "Uninstalling ipywidgets-7.7.1:\r\n",
      "  Successfully uninstalled ipywidgets-7.7.1\r\n",
      "\u001b[33mWARNING: Running pip as the 'root' user can result in broken permissions and conflicting behaviour with the system package manager. It is recommended to use a virtual environment instead: https://pip.pypa.io/warnings/venv\u001b[0m\u001b[33m\r\n",
      "\u001b[0mCollecting ipywidgets\r\n",
      "  Downloading ipywidgets-8.0.5-py3-none-any.whl (138 kB)\r\n",
      "\u001b[2K     \u001b[90m━━━━━━━━━━━━━━━━━━━━━━━━━━━━━━━━━━━━━━━\u001b[0m \u001b[32m138.3/138.3 kB\u001b[0m \u001b[31m3.6 MB/s\u001b[0m eta \u001b[36m0:00:00\u001b[0m\r\n",
      "\u001b[?25hRequirement already satisfied: jupyterlab-widgets~=3.0 in /opt/conda/lib/python3.7/site-packages (from ipywidgets) (3.0.5)\r\n",
      "Requirement already satisfied: ipython>=6.1.0 in /opt/conda/lib/python3.7/site-packages (from ipywidgets) (7.34.0)\r\n",
      "Collecting widgetsnbextension~=4.0\r\n",
      "  Downloading widgetsnbextension-4.0.6-py3-none-any.whl (2.1 MB)\r\n",
      "\u001b[2K     \u001b[90m━━━━━━━━━━━━━━━━━━━━━━━━━━━━━━━━━━━━━━━━\u001b[0m \u001b[32m2.1/2.1 MB\u001b[0m \u001b[31m32.1 MB/s\u001b[0m eta \u001b[36m0:00:00\u001b[0m\r\n",
      "\u001b[?25hRequirement already satisfied: traitlets>=4.3.1 in /opt/conda/lib/python3.7/site-packages (from ipywidgets) (5.8.1)\r\n",
      "Requirement already satisfied: setuptools>=18.5 in /opt/conda/lib/python3.7/site-packages (from ipython>=6.1.0->ipywidgets) (59.8.0)\r\n",
      "Requirement already satisfied: backcall in /opt/conda/lib/python3.7/site-packages (from ipython>=6.1.0->ipywidgets) (0.2.0)\r\n",
      "Requirement already satisfied: pickleshare in /opt/conda/lib/python3.7/site-packages (from ipython>=6.1.0->ipywidgets) (0.7.5)\r\n",
      "Requirement already satisfied: decorator in /opt/conda/lib/python3.7/site-packages (from ipython>=6.1.0->ipywidgets) (5.1.1)\r\n",
      "Requirement already satisfied: matplotlib-inline in /opt/conda/lib/python3.7/site-packages (from ipython>=6.1.0->ipywidgets) (0.1.6)\r\n",
      "Requirement already satisfied: pexpect>4.3 in /opt/conda/lib/python3.7/site-packages (from ipython>=6.1.0->ipywidgets) (4.8.0)\r\n",
      "Requirement already satisfied: prompt-toolkit!=3.0.0,!=3.0.1,<3.1.0,>=2.0.0 in /opt/conda/lib/python3.7/site-packages (from ipython>=6.1.0->ipywidgets) (3.0.36)\r\n",
      "Requirement already satisfied: jedi>=0.16 in /opt/conda/lib/python3.7/site-packages (from ipython>=6.1.0->ipywidgets) (0.18.2)\r\n",
      "Requirement already satisfied: pygments in /opt/conda/lib/python3.7/site-packages (from ipython>=6.1.0->ipywidgets) (2.14.0)\r\n",
      "Requirement already satisfied: parso<0.9.0,>=0.8.0 in /opt/conda/lib/python3.7/site-packages (from jedi>=0.16->ipython>=6.1.0->ipywidgets) (0.8.3)\r\n",
      "Requirement already satisfied: ptyprocess>=0.5 in /opt/conda/lib/python3.7/site-packages (from pexpect>4.3->ipython>=6.1.0->ipywidgets) (0.7.0)\r\n",
      "Requirement already satisfied: wcwidth in /opt/conda/lib/python3.7/site-packages (from prompt-toolkit!=3.0.0,!=3.0.1,<3.1.0,>=2.0.0->ipython>=6.1.0->ipywidgets) (0.2.6)\r\n",
      "Installing collected packages: widgetsnbextension, ipywidgets\r\n",
      "  Attempting uninstall: widgetsnbextension\r\n",
      "    Found existing installation: widgetsnbextension 3.6.2\r\n",
      "    Uninstalling widgetsnbextension-3.6.2:\r\n",
      "      Successfully uninstalled widgetsnbextension-3.6.2\r\n",
      "Successfully installed ipywidgets-8.0.5 widgetsnbextension-4.0.6\r\n",
      "\u001b[33mWARNING: Running pip as the 'root' user can result in broken permissions and conflicting behaviour with the system package manager. It is recommended to use a virtual environment instead: https://pip.pypa.io/warnings/venv\u001b[0m\u001b[33m\r\n",
      "\u001b[0m"
     ]
    }
   ],
   "source": [
    "!pip uninstall ipywidgets -y\n",
    "\n",
    "!pip install ipywidgets"
   ]
  },
  {
   "cell_type": "code",
   "execution_count": 4,
   "id": "c9a00e76",
   "metadata": {
    "execution": {
     "iopub.execute_input": "2023-03-26T22:45:40.907028Z",
     "iopub.status.busy": "2023-03-26T22:45:40.906664Z",
     "iopub.status.idle": "2023-03-26T23:10:08.803381Z",
     "shell.execute_reply": "2023-03-26T23:10:08.802331Z"
    },
    "papermill": {
     "duration": 1467.904801,
     "end_time": "2023-03-26T23:10:08.805869",
     "exception": false,
     "start_time": "2023-03-26T22:45:40.901068",
     "status": "completed"
    },
    "tags": []
   },
   "outputs": [
    {
     "data": {
      "application/vnd.jupyter.widget-view+json": {
       "model_id": "1258868fff62470f82d144ae58a8557d",
       "version_major": 2,
       "version_minor": 0
      },
      "text/plain": [
       "  0%|          | 0/94477 [00:00<?, ?it/s]"
      ]
     },
     "metadata": {},
     "output_type": "display_data"
    },
    {
     "data": {
      "text/plain": [
       "70"
      ]
     },
     "execution_count": 4,
     "metadata": {},
     "output_type": "execute_result"
    }
   ],
   "source": [
    "# Data Loading \n",
    "train = pd.read_csv(TRAIN_FILE)\n",
    "with open(INDEX_MAP_FILE, 'r') as f: \n",
    "    index_map = json.load(f)\n",
    "\n",
    "train['label'] = train['sign'].map(lambda x: index_map[x])\n",
    "\n",
    "x_ragged = []\n",
    "y =  []\n",
    "\n",
    "# for i in tqdm(range(len(train))): \n",
    "for i in tqdm(range(int(len(train)))):\n",
    "    data_columns  = ['x', 'y', 'z']\n",
    "    \n",
    "    data = pd.read_parquet(os.path.join(BASE_TRAIN_PATH, train.iloc[i].path), columns=data_columns)\n",
    "    \n",
    "    n = int(len(data)/rows_per_frame)\n",
    "    \n",
    "    data = data.values.reshape(n, rows_per_frame, len(data_columns)).astype(np.float32)\n",
    "    \n",
    "    data = np.nan_to_num(data[:, point_landmarks, :]) # filter for the relevant pose landmarks \n",
    "    \n",
    "    #avg_data = np.array([data[j:j+3].sum(axis=0)/np.ones((82, 3))*3 for j in range(int(data.shape[0]/3))])\n",
    "    if n>3: \n",
    "        avg_data = np.array([np.nanmean(data[p:p+3], axis = 0) for p in range(int(n/3))])\n",
    "    \n",
    "        avg_data = np.reshape(avg_data, (int(n/3), len(point_landmarks)*3)).astype(np.float32) # flatten the x,y,z dimension of data again \n",
    "    else: \n",
    "        avg_data = np.reshape(data, (n, len(point_landmarks)*3)).astype(np.float32)\n",
    "            \n",
    "    \n",
    "    x_ragged.append(avg_data)\n",
    "    \n",
    "    y.append(train.iloc[i].label)\n",
    "\n",
    "\n",
    "x_ragged = np.array(x_ragged)\n",
    "\n",
    "y = np.array(y)\n",
    "\n",
    "x = tf.keras.utils.pad_sequences(\n",
    "    x_ragged, padding=\"post\", truncating=\"post\", maxlen = max_length, dtype=np.float32\n",
    ")\n",
    "\n",
    "del x_ragged \n",
    "gc.collect()\n",
    "\n",
    "# print(x_ragged.shape, y.shape)\n",
    "# (examples, only relevant landmarks * dimension of coordinates)\n",
    "# (94477, 82*3) (94477,) \n"
   ]
  },
  {
   "cell_type": "code",
   "execution_count": 5,
   "id": "dacebd0d",
   "metadata": {
    "execution": {
     "iopub.execute_input": "2023-03-26T23:10:08.816670Z",
     "iopub.status.busy": "2023-03-26T23:10:08.816357Z",
     "iopub.status.idle": "2023-03-26T23:10:08.823072Z",
     "shell.execute_reply": "2023-03-26T23:10:08.822076Z"
    },
    "papermill": {
     "duration": 0.014716,
     "end_time": "2023-03-26T23:10:08.825315",
     "exception": false,
     "start_time": "2023-03-26T23:10:08.810599",
     "status": "completed"
    },
    "tags": []
   },
   "outputs": [],
   "source": [
    "class FeatureGenTF(tf.keras.layers.Layer):\n",
    "    def __init__(self):\n",
    "        super().__init__()\n",
    "\n",
    "    def call(self, x):\n",
    "        x = tf.gather(x, point_landmarks, axis=1)\n",
    "        x = tf.image.resize_with_pad(x, max_length, len(point_landmarks))\n",
    "        x = tf.concat([x[...,i] for i in range(3)], -1) #Flatten\n",
    "        x = tf.where(tf.math.is_nan(x), tf.zeros_like(x), x)\n",
    "        x = tf.expand_dims(x,0) # THIS IS SAYING BATCH SIZE ONE TO MODEL YEAAAA\n",
    "        \n",
    "        return x"
   ]
  },
  {
   "cell_type": "code",
   "execution_count": 6,
   "id": "c26794a4",
   "metadata": {
    "execution": {
     "iopub.execute_input": "2023-03-26T23:10:08.835584Z",
     "iopub.status.busy": "2023-03-26T23:10:08.835286Z",
     "iopub.status.idle": "2023-03-26T23:10:19.384266Z",
     "shell.execute_reply": "2023-03-26T23:10:19.383325Z"
    },
    "papermill": {
     "duration": 10.556943,
     "end_time": "2023-03-26T23:10:19.386844",
     "exception": false,
     "start_time": "2023-03-26T23:10:08.829901",
     "status": "completed"
    },
    "tags": []
   },
   "outputs": [
    {
     "data": {
      "text/plain": [
       "715"
      ]
     },
     "execution_count": 6,
     "metadata": {},
     "output_type": "execute_result"
    }
   ],
   "source": [
    "# Training Code \n",
    "def get_model(x, y): \n",
    "    model = tf.keras.Sequential([\n",
    "        # the hidden ReLU layers\n",
    "        tf.keras.Input(shape=(max_length, len(point_landmarks)*3), dtype=np.float32), \n",
    "        tf.keras.layers.Masking(mask_value=0, input_shape=(max_length, len(point_landmarks)*3)),\n",
    "        tf.keras.layers.Dense(units=256, activation='relu'), # Generally want hidden layers to be between the size of the input and output layers \n",
    "        tf.keras.layers.Dropout(dropout_rate),\n",
    "        tf.keras.layers.LayerNormalization(), \n",
    "        tf.keras.layers.Dense(units=256, activation='relu'),\n",
    "        tf.keras.layers.Dropout(dropout_rate),\n",
    "        tf.keras.layers.LayerNormalization(), \n",
    "         tf.keras.layers.Dense(units=256, activation='relu'),\n",
    "        tf.keras.layers.Dropout(dropout_rate),\n",
    "        tf.keras.layers.LayerNormalization(), \n",
    "        tf.keras.layers.Flatten(),\n",
    "        # the linear output layer \n",
    "        tf.keras.layers.Dense(units = num_classes, activation='softmax', name='outie'), # Output size is <256>\n",
    "    ])\n",
    "    \n",
    "    model.compile(optimizer = \"adam\", loss=\"sparse_categorical_crossentropy\", metrics=[\"accuracy\"])\n",
    "    return model \n",
    "\n",
    "\n",
    "model = get_model(x,y) \n",
    "\n",
    "if training: \n",
    "    X_train, X_test, Y_train, Y_test = train_test_split(x, y, test_size=0.2, random_state=1)\n",
    "\n",
    "    X_train, X_val, Y_train, Y_val = train_test_split(X_train, Y_train, test_size=0.25, random_state=1) \n",
    "    \n",
    "del x , y\n",
    "gc.collect()\n"
   ]
  },
  {
   "cell_type": "code",
   "execution_count": 7,
   "id": "29f569eb",
   "metadata": {
    "execution": {
     "iopub.execute_input": "2023-03-26T23:10:19.397977Z",
     "iopub.status.busy": "2023-03-26T23:10:19.397375Z",
     "iopub.status.idle": "2023-03-26T23:12:49.074545Z",
     "shell.execute_reply": "2023-03-26T23:12:49.073505Z"
    },
    "papermill": {
     "duration": 149.685189,
     "end_time": "2023-03-26T23:12:49.076935",
     "exception": false,
     "start_time": "2023-03-26T23:10:19.391746",
     "status": "completed"
    },
    "tags": []
   },
   "outputs": [
    {
     "name": "stdout",
     "output_type": "stream",
     "text": [
      "Epoch 1/200\n",
      "189/189 [==============================] - 12s 26ms/step - loss: 5.9444 - accuracy: 0.0052 - val_loss: 5.5082 - val_accuracy: 0.0093 - lr: 0.0010\n",
      "Epoch 2/200\n",
      "189/189 [==============================] - 3s 18ms/step - loss: 5.2986 - accuracy: 0.0209 - val_loss: 4.9216 - val_accuracy: 0.0476 - lr: 0.0010\n",
      "Epoch 3/200\n",
      "189/189 [==============================] - 3s 17ms/step - loss: 4.6954 - accuracy: 0.0676 - val_loss: 4.4797 - val_accuracy: 0.0956 - lr: 0.0010\n",
      "Epoch 4/200\n",
      "189/189 [==============================] - 3s 17ms/step - loss: 4.2725 - accuracy: 0.1159 - val_loss: 4.2726 - val_accuracy: 0.1382 - lr: 0.0010\n",
      "Epoch 5/200\n",
      "189/189 [==============================] - 3s 18ms/step - loss: 3.9876 - accuracy: 0.1579 - val_loss: 4.0396 - val_accuracy: 0.1746 - lr: 0.0010\n",
      "Epoch 6/200\n",
      "189/189 [==============================] - 3s 17ms/step - loss: 3.7184 - accuracy: 0.1960 - val_loss: 3.8763 - val_accuracy: 0.2040 - lr: 0.0010\n",
      "Epoch 7/200\n",
      "189/189 [==============================] - 3s 17ms/step - loss: 3.5260 - accuracy: 0.2263 - val_loss: 3.9429 - val_accuracy: 0.2100 - lr: 0.0010\n",
      "Epoch 8/200\n",
      "189/189 [==============================] - 3s 17ms/step - loss: 3.3626 - accuracy: 0.2532 - val_loss: 3.9319 - val_accuracy: 0.2199 - lr: 0.0010\n",
      "Epoch 9/200\n",
      "189/189 [==============================] - 3s 18ms/step - loss: 3.2151 - accuracy: 0.2810 - val_loss: 3.8626 - val_accuracy: 0.2447 - lr: 0.0010\n",
      "Epoch 10/200\n",
      "189/189 [==============================] - 3s 18ms/step - loss: 3.0524 - accuracy: 0.3085 - val_loss: 3.9552 - val_accuracy: 0.2462 - lr: 0.0010\n",
      "Epoch 11/200\n",
      "189/189 [==============================] - 3s 17ms/step - loss: 2.9095 - accuracy: 0.3346 - val_loss: 4.0126 - val_accuracy: 0.2533 - lr: 0.0010\n",
      "Epoch 12/200\n",
      "189/189 [==============================] - 3s 18ms/step - loss: 2.7998 - accuracy: 0.3554 - val_loss: 4.0509 - val_accuracy: 0.2503 - lr: 0.0010\n",
      "Epoch 13/200\n",
      "189/189 [==============================] - 3s 17ms/step - loss: 2.7010 - accuracy: 0.3687 - val_loss: 4.1650 - val_accuracy: 0.2617 - lr: 0.0010\n",
      "Epoch 14/200\n",
      "189/189 [==============================] - 3s 17ms/step - loss: 2.6060 - accuracy: 0.3890 - val_loss: 4.1771 - val_accuracy: 0.2668 - lr: 0.0010\n",
      "Epoch 15/200\n",
      "189/189 [==============================] - 3s 18ms/step - loss: 2.5126 - accuracy: 0.4094 - val_loss: 4.2169 - val_accuracy: 0.2784 - lr: 0.0010\n",
      "Epoch 16/200\n",
      "189/189 [==============================] - 3s 17ms/step - loss: 2.4339 - accuracy: 0.4217 - val_loss: 4.3085 - val_accuracy: 0.2797 - lr: 0.0010\n",
      "Epoch 17/200\n",
      "189/189 [==============================] - 3s 17ms/step - loss: 2.3725 - accuracy: 0.4354 - val_loss: 4.4292 - val_accuracy: 0.2827 - lr: 0.0010\n",
      "Epoch 18/200\n",
      "189/189 [==============================] - 3s 17ms/step - loss: 2.3130 - accuracy: 0.4455 - val_loss: 4.4085 - val_accuracy: 0.2836 - lr: 0.0010\n",
      "Epoch 19/200\n",
      "189/189 [==============================] - 4s 19ms/step - loss: 2.2527 - accuracy: 0.4572 - val_loss: 4.5009 - val_accuracy: 0.2810 - lr: 0.0010\n",
      "Epoch 20/200\n",
      "189/189 [==============================] - 3s 17ms/step - loss: 2.2083 - accuracy: 0.4667 - val_loss: 4.5402 - val_accuracy: 0.2894 - lr: 0.0010\n",
      "Epoch 21/200\n",
      "189/189 [==============================] - 3s 17ms/step - loss: 2.1357 - accuracy: 0.4812 - val_loss: 4.6218 - val_accuracy: 0.2914 - lr: 0.0010\n",
      "Epoch 22/200\n",
      "189/189 [==============================] - 3s 18ms/step - loss: 2.1024 - accuracy: 0.4879 - val_loss: 4.7414 - val_accuracy: 0.2838 - lr: 0.0010\n",
      "Epoch 23/200\n",
      "189/189 [==============================] - 3s 17ms/step - loss: 2.0626 - accuracy: 0.4973 - val_loss: 4.7565 - val_accuracy: 0.2922 - lr: 0.0010\n",
      "Epoch 24/200\n",
      "189/189 [==============================] - 3s 17ms/step - loss: 2.0214 - accuracy: 0.5064 - val_loss: 4.7735 - val_accuracy: 0.2919 - lr: 0.0010\n",
      "Epoch 25/200\n",
      "189/189 [==============================] - 3s 18ms/step - loss: 1.9851 - accuracy: 0.5125 - val_loss: 4.8805 - val_accuracy: 0.2945 - lr: 0.0010\n",
      "Epoch 26/200\n",
      "189/189 [==============================] - 3s 17ms/step - loss: 1.9774 - accuracy: 0.5160 - val_loss: 5.0486 - val_accuracy: 0.2870 - lr: 0.0010\n",
      "Epoch 27/200\n",
      "189/189 [==============================] - 3s 17ms/step - loss: 1.9395 - accuracy: 0.5232 - val_loss: 4.9838 - val_accuracy: 0.2963 - lr: 0.0010\n",
      "Epoch 28/200\n",
      "189/189 [==============================] - 4s 21ms/step - loss: 1.9103 - accuracy: 0.5294 - val_loss: 5.0770 - val_accuracy: 0.2989 - lr: 0.0010\n",
      "Epoch 29/200\n",
      "189/189 [==============================] - 3s 17ms/step - loss: 1.8939 - accuracy: 0.5327 - val_loss: 5.0421 - val_accuracy: 0.2988 - lr: 0.0010\n",
      "Epoch 30/200\n",
      "189/189 [==============================] - 3s 17ms/step - loss: 1.8733 - accuracy: 0.5353 - val_loss: 5.1460 - val_accuracy: 0.2987 - lr: 0.0010\n",
      "Epoch 31/200\n",
      "189/189 [==============================] - 3s 17ms/step - loss: 1.8196 - accuracy: 0.5475 - val_loss: 5.1307 - val_accuracy: 0.3063 - lr: 0.0010\n",
      "Epoch 32/200\n",
      "189/189 [==============================] - 3s 18ms/step - loss: 1.8013 - accuracy: 0.5519 - val_loss: 5.1854 - val_accuracy: 0.3101 - lr: 0.0010\n",
      "Epoch 33/200\n",
      "189/189 [==============================] - 3s 17ms/step - loss: 1.7834 - accuracy: 0.5550 - val_loss: 5.3397 - val_accuracy: 0.3064 - lr: 0.0010\n",
      "Epoch 34/200\n",
      "189/189 [==============================] - 3s 17ms/step - loss: 1.7488 - accuracy: 0.5631 - val_loss: 5.3581 - val_accuracy: 0.3032 - lr: 0.0010\n",
      "Epoch 35/200\n",
      "189/189 [==============================] - 3s 18ms/step - loss: 1.7526 - accuracy: 0.5623 - val_loss: 5.4300 - val_accuracy: 0.3056 - lr: 0.0010\n",
      "Epoch 36/200\n",
      "189/189 [==============================] - 3s 17ms/step - loss: 1.7375 - accuracy: 0.5655 - val_loss: 5.4605 - val_accuracy: 0.3091 - lr: 0.0010\n",
      "Epoch 37/200\n",
      "189/189 [==============================] - 3s 17ms/step - loss: 1.7168 - accuracy: 0.5702 - val_loss: 5.5056 - val_accuracy: 0.3089 - lr: 0.0010\n",
      "591/591 - 2s - loss: 5.1854 - accuracy: 0.3101 - 2s/epoch - 4ms/step\n",
      "Restored model, accuracy: 31.01%\n"
     ]
    }
   ],
   "source": [
    "callbacks = [\n",
    "        EarlyStopping(\n",
    "                monitor = \"val_accuracy\",\n",
    "                min_delta = 0, # minimium amount of change to count as an improvement\n",
    "                patience = 5, # how many epochs to wait before stopping\n",
    "                restore_best_weights=True),\n",
    "    \n",
    "        ReduceLROnPlateau(monitor = \"val_accuracy\",\n",
    "            factor = 0.5,\n",
    "            patience = 5)\n",
    "            ]\n",
    "\n",
    "history = model.fit(X_train, Y_train, \n",
    "              batch_size=batch_size, \n",
    "              epochs=epochs,\n",
    "              validation_data = (X_val, Y_val), \n",
    "              callbacks=[callbacks])\n",
    "\n",
    "loss, acc = model.evaluate(X_val, Y_val, verbose=2)\n",
    "print(\"Restored model, accuracy: {:5.2f}%\".format(100 * acc))"
   ]
  },
  {
   "cell_type": "code",
   "execution_count": 8,
   "id": "ca50a1d6",
   "metadata": {
    "execution": {
     "iopub.execute_input": "2023-03-26T23:12:49.380000Z",
     "iopub.status.busy": "2023-03-26T23:12:49.379465Z",
     "iopub.status.idle": "2023-03-26T23:12:49.457546Z",
     "shell.execute_reply": "2023-03-26T23:12:49.455698Z"
    },
    "papermill": {
     "duration": 0.247658,
     "end_time": "2023-03-26T23:12:49.462353",
     "exception": false,
     "start_time": "2023-03-26T23:12:49.214695",
     "status": "completed"
    },
    "tags": []
   },
   "outputs": [
    {
     "name": "stdout",
     "output_type": "stream",
     "text": [
      "Model: \"sequential\"\n",
      "_________________________________________________________________\n",
      " Layer (type)                Output Shape              Param #   \n",
      "=================================================================\n",
      " masking (Masking)           (None, 30, 246)           0         \n",
      "                                                                 \n",
      " dense (Dense)               (None, 30, 256)           63232     \n",
      "                                                                 \n",
      " dropout (Dropout)           (None, 30, 256)           0         \n",
      "                                                                 \n",
      " layer_normalization (LayerN  (None, 30, 256)          512       \n",
      " ormalization)                                                   \n",
      "                                                                 \n",
      " dense_1 (Dense)             (None, 30, 256)           65792     \n",
      "                                                                 \n",
      " dropout_1 (Dropout)         (None, 30, 256)           0         \n",
      "                                                                 \n",
      " layer_normalization_1 (Laye  (None, 30, 256)          512       \n",
      " rNormalization)                                                 \n",
      "                                                                 \n",
      " dense_2 (Dense)             (None, 30, 256)           65792     \n",
      "                                                                 \n",
      " dropout_2 (Dropout)         (None, 30, 256)           0         \n",
      "                                                                 \n",
      " layer_normalization_2 (Laye  (None, 30, 256)          512       \n",
      " rNormalization)                                                 \n",
      "                                                                 \n",
      " flatten (Flatten)           (None, 7680)              0         \n",
      "                                                                 \n",
      " outie (Dense)               (None, 250)               1920250   \n",
      "                                                                 \n",
      "=================================================================\n",
      "Total params: 2,116,602\n",
      "Trainable params: 2,116,602\n",
      "Non-trainable params: 0\n",
      "_________________________________________________________________\n"
     ]
    }
   ],
   "source": [
    "model.summary()"
   ]
  },
  {
   "cell_type": "code",
   "execution_count": 9,
   "id": "8aeef02d",
   "metadata": {
    "execution": {
     "iopub.execute_input": "2023-03-26T23:12:49.770127Z",
     "iopub.status.busy": "2023-03-26T23:12:49.769758Z",
     "iopub.status.idle": "2023-03-26T23:12:50.085172Z",
     "shell.execute_reply": "2023-03-26T23:12:50.084147Z"
    },
    "papermill": {
     "duration": 0.472686,
     "end_time": "2023-03-26T23:12:50.087264",
     "exception": false,
     "start_time": "2023-03-26T23:12:49.614578",
     "status": "completed"
    },
    "tags": []
   },
   "outputs": [
    {
     "name": "stdout",
     "output_type": "stream",
     "text": [
      "<keras.callbacks.History object at 0x7fb8d2c63b10>\n"
     ]
    },
    {
     "data": {
      "image/png": "[encoded data removed]",
      "text/plain": [
       "<Figure size 640x480 with 1 Axes>"
      ]
     },
     "metadata": {},
     "output_type": "display_data"
    }
   ],
   "source": [
    "import matplotlib.pyplot as plt\n",
    "\n",
    "print(history)\n",
    "plt.plot(history.history['accuracy'])\n",
    "plt.plot(history.history['val_accuracy'])\n",
    "plt.title('model accuracy')\n",
    "plt.ylabel('accuracy')\n",
    "plt.xlabel('epoch')\n",
    "plt.legend(['train', 'test'], loc='upper left')\n",
    "plt.show()"
   ]
  },
  {
   "cell_type": "code",
   "execution_count": 10,
   "id": "89ae80b6",
   "metadata": {
    "execution": {
     "iopub.execute_input": "2023-03-26T23:12:50.368623Z",
     "iopub.status.busy": "2023-03-26T23:12:50.367616Z",
     "iopub.status.idle": "2023-03-26T23:12:50.570916Z",
     "shell.execute_reply": "2023-03-26T23:12:50.569954Z"
    },
    "papermill": {
     "duration": 0.381312,
     "end_time": "2023-03-26T23:12:50.572998",
     "exception": false,
     "start_time": "2023-03-26T23:12:50.191686",
     "status": "completed"
    },
    "tags": []
   },
   "outputs": [
    {
     "data": {
      "image/png": "[encoded data removed]",
      "text/plain": [
       "<Figure size 640x480 with 1 Axes>"
      ]
     },
     "metadata": {},
     "output_type": "display_data"
    }
   ],
   "source": [
    "plt.plot(history.history['loss'])\n",
    "plt.plot(history.history['val_loss'])\n",
    "plt.title('model loss')\n",
    "plt.ylabel('loss')\n",
    "plt.xlabel('epoch')\n",
    "plt.legend(['train', 'test'], loc='upper left')\n",
    "plt.show()"
   ]
  },
  {
   "cell_type": "code",
   "execution_count": 11,
   "id": "91836f16",
   "metadata": {
    "execution": {
     "iopub.execute_input": "2023-03-26T23:12:50.781845Z",
     "iopub.status.busy": "2023-03-26T23:12:50.781261Z",
     "iopub.status.idle": "2023-03-26T23:12:50.788288Z",
     "shell.execute_reply": "2023-03-26T23:12:50.787261Z"
    },
    "papermill": {
     "duration": 0.113602,
     "end_time": "2023-03-26T23:12:50.790455",
     "exception": false,
     "start_time": "2023-03-26T23:12:50.676853",
     "status": "completed"
    },
    "tags": []
   },
   "outputs": [],
   "source": [
    "preprocessing = FeatureGenTF()\n",
    "\n",
    "def get_inference_model(model):\n",
    "    inputs = tf.keras.Input((543, 3), dtype=tf.float32, name=\"inputs\") \n",
    "    x = preprocessing(inputs)\n",
    "    x = model(x)\n",
    "    \n",
    "    output = tf.keras.layers.Activation(activation=\"linear\", name=\"outputs\")(x)\n",
    "    \n",
    "    inference_model = tf.keras.Model(inputs=inputs, outputs=output) \n",
    "    \n",
    "    inference_model.compile(loss=tf.keras.losses.SparseCategoricalCrossentropy(), metrics=[\"accuracy\"])\n",
    "    \n",
    "    return inference_model"
   ]
  },
  {
   "cell_type": "code",
   "execution_count": 12,
   "id": "10ae74b3",
   "metadata": {
    "execution": {
     "iopub.execute_input": "2023-03-26T23:12:50.998106Z",
     "iopub.status.busy": "2023-03-26T23:12:50.997794Z",
     "iopub.status.idle": "2023-03-26T23:12:58.321335Z",
     "shell.execute_reply": "2023-03-26T23:12:58.320204Z"
    },
    "papermill": {
     "duration": 7.458118,
     "end_time": "2023-03-26T23:12:58.351168",
     "exception": false,
     "start_time": "2023-03-26T23:12:50.893050",
     "status": "completed"
    },
    "tags": []
   },
   "outputs": [
    {
     "name": "stdout",
     "output_type": "stream",
     "text": [
      "MODEL SIZE\n",
      "8514352\n",
      "  adding: model.tflite (deflated 8%)\r\n",
      "Model: \"model\"\n",
      "_________________________________________________________________\n",
      " Layer (type)                Output Shape              Param #   \n",
      "=================================================================\n",
      " inputs (InputLayer)         [(None, 543, 3)]          0         \n",
      "                                                                 \n",
      " feature_gen_tf (FeatureGenT  (1, 30, 246)             0         \n",
      " F)                                                              \n",
      "                                                                 \n",
      " sequential (Sequential)     (None, 250)               2116602   \n",
      "|¯¯¯¯¯¯¯¯¯¯¯¯¯¯¯¯¯¯¯¯¯¯¯¯¯¯¯¯¯¯¯¯¯¯¯¯¯¯¯¯¯¯¯¯¯¯¯¯¯¯¯¯¯¯¯¯¯¯¯¯¯¯¯|\n",
      "| masking (Masking)         (None, 30, 246)           0         |\n",
      "|                                                               |\n",
      "| dense (Dense)             (None, 30, 256)           63232     |\n",
      "|                                                               |\n",
      "| dropout (Dropout)         (None, 30, 256)           0         |\n",
      "|                                                               |\n",
      "| layer_normalization (LayerN  (None, 30, 256)        512       |\n",
      "| ormalization)                                                 |\n",
      "|                                                               |\n",
      "| dense_1 (Dense)           (None, 30, 256)           65792     |\n",
      "|                                                               |\n",
      "| dropout_1 (Dropout)       (None, 30, 256)           0         |\n",
      "|                                                               |\n",
      "| layer_normalization_1 (Laye  (None, 30, 256)        512       |\n",
      "| rNormalization)                                               |\n",
      "|                                                               |\n",
      "| dense_2 (Dense)           (None, 30, 256)           65792     |\n",
      "|                                                               |\n",
      "| dropout_2 (Dropout)       (None, 30, 256)           0         |\n",
      "|                                                               |\n",
      "| layer_normalization_2 (Laye  (None, 30, 256)        512       |\n",
      "| rNormalization)                                               |\n",
      "|                                                               |\n",
      "| flatten (Flatten)         (None, 7680)              0         |\n",
      "|                                                               |\n",
      "| outie (Dense)             (None, 250)               1920250   |\n",
      "¯¯¯¯¯¯¯¯¯¯¯¯¯¯¯¯¯¯¯¯¯¯¯¯¯¯¯¯¯¯¯¯¯¯¯¯¯¯¯¯¯¯¯¯¯¯¯¯¯¯¯¯¯¯¯¯¯¯¯¯¯¯¯¯¯\n",
      " outputs (Activation)        (1, 250)                  0         \n",
      "                                                                 \n",
      "=================================================================\n",
      "Total params: 2,116,602\n",
      "Trainable params: 2,116,602\n",
      "Non-trainable params: 0\n",
      "_________________________________________________________________\n"
     ]
    }
   ],
   "source": [
    "\n",
    "inference_model = get_inference_model(model)\n",
    "\n",
    "converter = tf.lite.TFLiteConverter.from_keras_model(inference_model)\n",
    "tflite_model = converter.convert()\n",
    "model_path = \"model.tflite\"\n",
    "\n",
    "with open(model_path, 'wb') as f:\n",
    "    f.write(tflite_model)\n",
    "\n",
    "print(\"MODEL SIZE\")\n",
    "print(os.stat('model.tflite').st_size)\n",
    "\n",
    "!zip submission.zip $model_path\n",
    "\n",
    "inference_model.summary(expand_nested=True)"
   ]
  },
  {
   "cell_type": "code",
   "execution_count": 13,
   "id": "1bba92fc",
   "metadata": {
    "execution": {
     "iopub.execute_input": "2023-03-26T23:12:58.567556Z",
     "iopub.status.busy": "2023-03-26T23:12:58.567174Z",
     "iopub.status.idle": "2023-03-26T23:12:58.572201Z",
     "shell.execute_reply": "2023-03-26T23:12:58.571115Z"
    },
    "papermill": {
     "duration": 0.115887,
     "end_time": "2023-03-26T23:12:58.574304",
     "exception": false,
     "start_time": "2023-03-26T23:12:58.458417",
     "status": "completed"
    },
    "tags": []
   },
   "outputs": [],
   "source": [
    "# !pip install tflite-runtime"
   ]
  },
  {
   "cell_type": "code",
   "execution_count": 14,
   "id": "0ef8e972",
   "metadata": {
    "execution": {
     "iopub.execute_input": "2023-03-26T23:12:58.786046Z",
     "iopub.status.busy": "2023-03-26T23:12:58.785739Z",
     "iopub.status.idle": "2023-03-26T23:12:58.790322Z",
     "shell.execute_reply": "2023-03-26T23:12:58.789322Z"
    },
    "papermill": {
     "duration": 0.113061,
     "end_time": "2023-03-26T23:12:58.792518",
     "exception": false,
     "start_time": "2023-03-26T23:12:58.679457",
     "status": "completed"
    },
    "tags": []
   },
   "outputs": [],
   "source": [
    "# import tflite_runtime.interpreter as tflite\n",
    "\n",
    "# def load_relevant_data_subset(pq_path):\n",
    "#     data_columns = ['x', 'y', 'z']\n",
    "#     data = pd.read_parquet(pq_path, columns=data_columns)\n",
    "#     n_frames = int(len(data) / ROWS_PER_FRAME)\n",
    "#     data = data.values.reshape(n_frames, ROWS_PER_FRAME, len(data_columns))\n",
    "#     return data.astype(np.float32)\n",
    "\n",
    "\n",
    "# frames = load_relevant_data_subset(os.path.join(BASE_TRAIN_PATH, train.iloc[11].path))\n",
    "\n",
    "# interpreter = tflite.Interpreter(model_path)\n",
    "\n",
    "# found_signatures = list(interpreter.get_signature_list().keys())\n",
    "# prediction_fn = interpreter.get_signature_runner(\"serving_default\")\n",
    "# output = prediction_fn(inputs=frames)\n",
    "# sign = np.argmax(output[\"outputs\"])\n",
    "# print(train.iloc[1].label)\n"
   ]
  },
  {
   "cell_type": "code",
   "execution_count": null,
   "id": "7574ae17",
   "metadata": {
    "papermill": {
     "duration": 0.105787,
     "end_time": "2023-03-26T23:12:59.003170",
     "exception": false,
     "start_time": "2023-03-26T23:12:58.897383",
     "status": "completed"
    },
    "tags": []
   },
   "outputs": [],
   "source": []
  }
 ],
 "metadata": {
  "kernelspec": {
   "display_name": "Python 3",
   "language": "python",
   "name": "python3"
  },
  "language_info": {
   "codemirror_mode": {
    "name": "ipython",
    "version": 3
   },
   "file_extension": ".py",
   "mimetype": "text/x-python",
   "name": "python",
   "nbconvert_exporter": "python",
   "pygments_lexer": "ipython3",
   "version": "3.7.12"
  },
  "papermill": {
   "default_parameters": {},
   "duration": 1671.423832,
   "end_time": "2023-03-26T23:13:01.987698",
   "environment_variables": {},
   "exception": null,
   "input_path": "__notebook__.ipynb",
   "output_path": "__notebook__.ipynb",
   "parameters": {},
   "start_time": "2023-03-26T22:45:10.563866",
   "version": "2.4.0"
  },
  "widgets": {
   "application/vnd.jupyter.widget-state+json": {
    "state": {
     "05c23d49d71c40f79524a2cc03f02a74": {
      "model_module": "@jupyter-widgets/controls",
      "model_module_version": "1.5.0",
      "model_name": "DescriptionStyleModel",
      "state": {
       "_model_module": "@jupyter-widgets/controls",
       "_model_module_version": "1.5.0",
       "_model_name": "DescriptionStyleModel",
       "_view_count": null,
       "_view_module": "@jupyter-widgets/base",
       "_view_module_version": "1.2.0",
       "_view_name": "StyleView",
       "description_width": ""
      }
     },
     "1258868fff62470f82d144ae58a8557d": {
      "model_module": "@jupyter-widgets/controls",
      "model_module_version": "1.5.0",
      "model_name": "HBoxModel",
      "state": {
       "_dom_classes": [],
       "_model_module": "@jupyter-widgets/controls",
       "_model_module_version": "1.5.0",
       "_model_name": "HBoxModel",
       "_view_count": null,
       "_view_module": "@jupyter-widgets/controls",
       "_view_module_version": "1.5.0",
       "_view_name": "HBoxView",
       "box_style": "",
       "children": [
        "IPY_MODEL_9d17a518818b4bf28882644cfdd4e2f0",
        "IPY_MODEL_201759d5e5ed483a9752d0cb3eb4688d",
        "IPY_MODEL_73378dbf2a3c4f7988ae793b21381701"
       ],
       "layout": "IPY_MODEL_b5fdcc6d084c46d6a702c9c30b42fcb6"
      }
     },
     "201759d5e5ed483a9752d0cb3eb4688d": {
      "model_module": "@jupyter-widgets/controls",
      "model_module_version": "1.5.0",
      "model_name": "FloatProgressModel",
      "state": {
       "_dom_classes": [],
       "_model_module": "@jupyter-widgets/controls",
       "_model_module_version": "1.5.0",
       "_model_name": "FloatProgressModel",
       "_view_count": null,
       "_view_module": "@jupyter-widgets/controls",
       "_view_module_version": "1.5.0",
       "_view_name": "ProgressView",
       "bar_style": "success",
       "description": "",
       "description_tooltip": null,
       "layout": "IPY_MODEL_2d02a268541849129a845141eca2bcf0",
       "max": 94477.0,
       "min": 0.0,
       "orientation": "horizontal",
       "style": "IPY_MODEL_ca511823bddf480cad809d4314848338",
       "value": 94477.0
      }
     },
     "2d02a268541849129a845141eca2bcf0": {
      "model_module": "@jupyter-widgets/base",
      "model_module_version": "1.2.0",
      "model_name": "LayoutModel",
      "state": {
       "_model_module": "@jupyter-widgets/base",
       "_model_module_version": "1.2.0",
       "_model_name": "LayoutModel",
       "_view_count": null,
       "_view_module": "@jupyter-widgets/base",
       "_view_module_version": "1.2.0",
       "_view_name": "LayoutView",
       "align_content": null,
       "align_items": null,
       "align_self": null,
       "border": null,
       "bottom": null,
       "display": null,
       "flex": null,
       "flex_flow": null,
       "grid_area": null,
       "grid_auto_columns": null,
       "grid_auto_flow": null,
       "grid_auto_rows": null,
       "grid_column": null,
       "grid_gap": null,
       "grid_row": null,
       "grid_template_areas": null,
       "grid_template_columns": null,
       "grid_template_rows": null,
       "height": null,
       "justify_content": null,
       "justify_items": null,
       "left": null,
       "margin": null,
       "max_height": null,
       "max_width": null,
       "min_height": null,
       "min_width": null,
       "object_fit": null,
       "object_position": null,
       "order": null,
       "overflow": null,
       "overflow_x": null,
       "overflow_y": null,
       "padding": null,
       "right": null,
       "top": null,
       "visibility": null,
       "width": null
      }
     },
     "4fb1cd66df03459fb3898a5c4f66c43e": {
      "model_module": "@jupyter-widgets/controls",
      "model_module_version": "1.5.0",
      "model_name": "DescriptionStyleModel",
      "state": {
       "_model_module": "@jupyter-widgets/controls",
       "_model_module_version": "1.5.0",
       "_model_name": "DescriptionStyleModel",
       "_view_count": null,
       "_view_module": "@jupyter-widgets/base",
       "_view_module_version": "1.2.0",
       "_view_name": "StyleView",
       "description_width": ""
      }
     },
     "5409d4b088f7437cb82442040c73f244": {
      "model_module": "@jupyter-widgets/base",
      "model_module_version": "1.2.0",
      "model_name": "LayoutModel",
      "state": {
       "_model_module": "@jupyter-widgets/base",
       "_model_module_version": "1.2.0",
       "_model_name": "LayoutModel",
       "_view_count": null,
       "_view_module": "@jupyter-widgets/base",
       "_view_module_version": "1.2.0",
       "_view_name": "LayoutView",
       "align_content": null,
       "align_items": null,
       "align_self": null,
       "border": null,
       "bottom": null,
       "display": null,
       "flex": null,
       "flex_flow": null,
       "grid_area": null,
       "grid_auto_columns": null,
       "grid_auto_flow": null,
       "grid_auto_rows": null,
       "grid_column": null,
       "grid_gap": null,
       "grid_row": null,
       "grid_template_areas": null,
       "grid_template_columns": null,
       "grid_template_rows": null,
       "height": null,
       "justify_content": null,
       "justify_items": null,
       "left": null,
       "margin": null,
       "max_height": null,
       "max_width": null,
       "min_height": null,
       "min_width": null,
       "object_fit": null,
       "object_position": null,
       "order": null,
       "overflow": null,
       "overflow_x": null,
       "overflow_y": null,
       "padding": null,
       "right": null,
       "top": null,
       "visibility": null,
       "width": null
      }
     },
     "73378dbf2a3c4f7988ae793b21381701": {
      "model_module": "@jupyter-widgets/controls",
      "model_module_version": "1.5.0",
      "model_name": "HTMLModel",
      "state": {
       "_dom_classes": [],
       "_model_module": "@jupyter-widgets/controls",
       "_model_module_version": "1.5.0",
       "_model_name": "HTMLModel",
       "_view_count": null,
       "_view_module": "@jupyter-widgets/controls",
       "_view_module_version": "1.5.0",
       "_view_name": "HTMLView",
       "description": "",
       "description_tooltip": null,
       "layout": "IPY_MODEL_5409d4b088f7437cb82442040c73f244",
       "placeholder": "​",
       "style": "IPY_MODEL_4fb1cd66df03459fb3898a5c4f66c43e",
       "value": " 94477/94477 [24:24&lt;00:00, 54.52it/s]"
      }
     },
     "9d17a518818b4bf28882644cfdd4e2f0": {
      "model_module": "@jupyter-widgets/controls",
      "model_module_version": "1.5.0",
      "model_name": "HTMLModel",
      "state": {
       "_dom_classes": [],
       "_model_module": "@jupyter-widgets/controls",
       "_model_module_version": "1.5.0",
       "_model_name": "HTMLModel",
       "_view_count": null,
       "_view_module": "@jupyter-widgets/controls",
       "_view_module_version": "1.5.0",
       "_view_name": "HTMLView",
       "description": "",
       "description_tooltip": null,
       "layout": "IPY_MODEL_c9a8866da22f402b8aabfa24146f4471",
       "placeholder": "​",
       "style": "IPY_MODEL_05c23d49d71c40f79524a2cc03f02a74",
       "value": "100%"
      }
     },
     "b5fdcc6d084c46d6a702c9c30b42fcb6": {
      "model_module": "@jupyter-widgets/base",
      "model_module_version": "1.2.0",
      "model_name": "LayoutModel",
      "state": {
       "_model_module": "@jupyter-widgets/base",
       "_model_module_version": "1.2.0",
       "_model_name": "LayoutModel",
       "_view_count": null,
       "_view_module": "@jupyter-widgets/base",
       "_view_module_version": "1.2.0",
       "_view_name": "LayoutView",
       "align_content": null,
       "align_items": null,
       "align_self": null,
       "border": null,
       "bottom": null,
       "display": null,
       "flex": null,
       "flex_flow": null,
       "grid_area": null,
       "grid_auto_columns": null,
       "grid_auto_flow": null,
       "grid_auto_rows": null,
       "grid_column": null,
       "grid_gap": null,
       "grid_row": null,
       "grid_template_areas": null,
       "grid_template_columns": null,
       "grid_template_rows": null,
       "height": null,
       "justify_content": null,
       "justify_items": null,
       "left": null,
       "margin": null,
       "max_height": null,
       "max_width": null,
       "min_height": null,
       "min_width": null,
       "object_fit": null,
       "object_position": null,
       "order": null,
       "overflow": null,
       "overflow_x": null,
       "overflow_y": null,
       "padding": null,
       "right": null,
       "top": null,
       "visibility": null,
       "width": null
      }
     },
     "c9a8866da22f402b8aabfa24146f4471": {
      "model_module": "@jupyter-widgets/base",
      "model_module_version": "1.2.0",
      "model_name": "LayoutModel",
      "state": {
       "_model_module": "@jupyter-widgets/base",
       "_model_module_version": "1.2.0",
       "_model_name": "LayoutModel",
       "_view_count": null,
       "_view_module": "@jupyter-widgets/base",
       "_view_module_version": "1.2.0",
       "_view_name": "LayoutView",
       "align_content": null,
       "align_items": null,
       "align_self": null,
       "border": null,
       "bottom": null,
       "display": null,
       "flex": null,
       "flex_flow": null,
       "grid_area": null,
       "grid_auto_columns": null,
       "grid_auto_flow": null,
       "grid_auto_rows": null,
       "grid_column": null,
       "grid_gap": null,
       "grid_row": null,
       "grid_template_areas": null,
       "grid_template_columns": null,
       "grid_template_rows": null,
       "height": null,
       "justify_content": null,
       "justify_items": null,
       "left": null,
       "margin": null,
       "max_height": null,
       "max_width": null,
       "min_height": null,
       "min_width": null,
       "object_fit": null,
       "object_position": null,
       "order": null,
       "overflow": null,
       "overflow_x": null,
       "overflow_y": null,
       "padding": null,
       "right": null,
       "top": null,
       "visibility": null,
       "width": null
      }
     },
     "ca511823bddf480cad809d4314848338": {
      "model_module": "@jupyter-widgets/controls",
      "model_module_version": "1.5.0",
      "model_name": "ProgressStyleModel",
      "state": {
       "_model_module": "@jupyter-widgets/controls",
       "_model_module_version": "1.5.0",
       "_model_name": "ProgressStyleModel",
       "_view_count": null,
       "_view_module": "@jupyter-widgets/base",
       "_view_module_version": "1.2.0",
       "_view_name": "StyleView",
       "bar_color": null,
       "description_width": ""
      }
     }
    },
    "version_major": 2,
    "version_minor": 0
   }
  }
 },
 "nbformat": 4,
 "nbformat_minor": 5
}
